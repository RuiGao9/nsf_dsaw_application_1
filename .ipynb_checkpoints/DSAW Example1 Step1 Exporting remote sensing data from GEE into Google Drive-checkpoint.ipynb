{
 "cells": [
  {
   "cell_type": "markdown",
   "metadata": {},
   "source": [
    "## DSAW Example1 Step1 Importing remote sensing data from GEE into HS JupyterHUB \n",
    "\n",
    "**Goal**: \n",
    "\n",
    "To be able to preprocess and import necessary remote sensing information within HS from GEE dataset archive. GEE list [here](https://developers.google.com/earth-engine/datasets/)\n",
    "\n",
    "**Prerequisites**\n",
    "\n",
    "- Complete \"Google Earth Engine setup in HS.ipynb\"\n",
    "- Complete \"Google Drive API setup in HS.ipynb\" (in process)"
   ]
  },
  {
   "cell_type": "markdown",
   "metadata": {},
   "source": [
    "Why GEE? The archive is significantly diverse and of global scale, same function implementation for any dataset.\n",
    "\n",
    "Other options from easy (API available) to difficult (offline)\n",
    "\n",
    "- AWS Amazon Earth https://aws.amazon.com/earth/\n",
    "- NASA access platforms (https://giovanni.gsfc.nasa.gov/giovanni/), (https://earthexplorer.usgs.gov/), (https://ladsweb.modaps.eosdis.nasa.gov/), and more.\n",
    "        "
   ]
  },
  {
   "cell_type": "markdown",
   "metadata": {},
   "source": [
    "## Step 1 Configure HS to run GEE code.\n",
    "\n",
    "Open a terminal, copy and paste the following lines. (NOTE: these commands can be part of an environment.yml or requisites.txt. Not sure how to do it)"
   ]
  },
  {
   "cell_type": "raw",
   "metadata": {},
   "source": [
    "# RUN THIS CODE IN A TERMINAL BEFORE RUNNING THIS NOTEBOOK. \n",
    "\n",
    "# IMPORTANT setting up Google Earth Engine GEE Python API\n",
    "pip install google-api-python-client --quiet\n",
    "pip install oauth2client --quiet\n",
    "pip install pyCrypto --quiet\n",
    "pip install earthengine-api --quiet\n",
    "#conda install -y -c conda-forge earthengine-api --quiet\n",
    "\n",
    "\n",
    "# IMPORTANT setting up Google EarthEngine GEE Jupyter map visualization capabilities\n",
    "pip install ipygee --quiet\n",
    "#pip install -U geemap --quiet\n",
    "pip install geetools --quiet\n",
    "pip install ipyleaflet --quiet\n",
    "jupyter nbextension enable --py --sys-prefix ipyleaflet\n",
    "\n",
    "# IMPORTANT setting Jupyternotebook extended capabilities\n",
    "jupyter nbextension enable --py widgetsnbextension"
   ]
  },
  {
   "cell_type": "markdown",
   "metadata": {},
   "source": [
    "## Step 2 Initialize GEE and ServerMap"
   ]
  },
  {
   "cell_type": "code",
   "execution_count": 87,
   "metadata": {},
   "outputs": [
    {
     "data": {
      "application/vnd.jupyter.widget-view+json": {
       "model_id": "8aa4dc3eb5c14ca68580d1d1315a7046",
       "version_major": 2,
       "version_minor": 0
      },
      "text/plain": [
       "Map(center=[0, 0], controls=(ZoomControl(options=['position', 'zoom_in_text', 'zoom_in_title', 'zoom_out_text'…"
      ]
     },
     "metadata": {},
     "output_type": "display_data"
    },
    {
     "data": {
      "application/vnd.jupyter.widget-view+json": {
       "model_id": "647f18ddfef7468595542f373be6a0e0",
       "version_major": 2,
       "version_minor": 0
      },
      "text/plain": [
       "Tab(children=(CustomInspector(children=(SelectMultiple(options=OrderedDict(), value=()), Accordion(selected_in…"
      ]
     },
     "metadata": {},
     "output_type": "display_data"
    }
   ],
   "source": [
    "# Initializing display, earthengine, and ipyleaflet\n",
    "from IPython.display import Image\n",
    "%matplotlib inline\n",
    "\n",
    "# import geemap\n",
    "\n",
    "import ee\n",
    "ee.Initialize()\n",
    "\n",
    "# importing ipygee for dynamic mapping\n",
    "from ipygee import *\n",
    "\n",
    "Map = Map() # from ipygee\n",
    "Map.show()"
   ]
  },
  {
   "cell_type": "markdown",
   "metadata": {},
   "source": [
    "## Step 3 Adquire Remote Sensing Data of Interest\n",
    "\n",
    "In this case, we are replicating the procedure and data from manuscript **\"Estimation of Surface Soil Moisture in Irrigated Lands by Assimilation of Landsat Vegetation Indices, Surface Energy Balance Products, and Relevance Vector Machines\"**, link [here](https://www.mdpi.com/2073-4441/8/4/167)\n",
    "\n",
    "So, necessary information:\n",
    "\n",
    "- Remote Sensing data : Landsat 7\n",
    "- Dates: '2012-05-13', '2012-05-29', '2012-06-14', '2012-06-30' (DOYs 136, 152, 168, 184)\n",
    "- Location: Delta, UT (39.35243,-112.58263) "
   ]
  },
  {
   "cell_type": "code",
   "execution_count": 88,
   "metadata": {},
   "outputs": [],
   "source": [
    "# Preparing information for GEE\n",
    "    \n",
    "# Location coordinates\n",
    "lat = 39.375103\n",
    "lon = -112.633001\n",
    "\n",
    "# day before and after of date of interest (to deal with Zulu time)\n",
    "date_before = '2012-05-12'\n",
    "date_after = '2012-05-14'\n",
    "\n",
    "# link specific to landsat 7 dataset as described in https://developers.google.com/earth-engine/datasets/\n",
    "landsat7 = ee.ImageCollection(\"LANDSAT/LE07/C01/T1_SR\") \n",
    "\n",
    "# Location in Google Drive to store images\n",
    "google_drive_folder =\"GEEexport\"\n"
   ]
  },
  {
   "cell_type": "markdown",
   "metadata": {},
   "source": [
    "See details of landsat 7 metadata [here](https://developers.google.com/earth-engine/datasets/catalog/LANDSAT_LE07_C01_T1_SR#bands\n",
    ") "
   ]
  },
  {
   "cell_type": "code",
   "execution_count": 89,
   "metadata": {},
   "outputs": [
    {
     "name": "stdout",
     "output_type": "stream",
     "text": [
      "Image julian date:  134\n",
      "Image year:  2012\n"
     ]
    }
   ],
   "source": [
    "# identifying landsat 7 image on the first date of interest\n",
    "\n",
    "l7_05_12 = ee.Image(landsat7. #the dataset\n",
    "                    filterBounds(ee.Geometry.Point(lon,lat)). # the general area of interest\n",
    "                    filterDate('2012-05-12','2012-05-14'). # the date before and after\n",
    "                    first()) # the first image from the aplication of the two previous filters\n",
    "\n",
    "# Get the timestamp and convert it to a date.\n",
    "julian_date = ee.Date(l7_05_12.get('system:time_start')).format('DD').getInfo();\n",
    "year = ee.Date(l7_05_12.get('system:time_start')).format('Y').getInfo();\n",
    "\n",
    "print('Image julian date: ', julian_date); # ee.Date\n",
    "print('Image year: ', year)"
   ]
  },
  {
   "cell_type": "code",
   "execution_count": 90,
   "metadata": {},
   "outputs": [
    {
     "name": "stdout",
     "output_type": "stream",
     "text": [
      "['B1', 'B2', 'B3', 'B4', 'B5', 'B6', 'B7', 'sr_atmos_opacity', 'sr_cloud_qa', 'pixel_qa', 'radsat_qa']\n"
     ]
    }
   ],
   "source": [
    "# Landsat 7 band names\n",
    "print(l7_05_12.bandNames().getInfo())"
   ]
  },
  {
   "cell_type": "markdown",
   "metadata": {},
   "source": [
    "These names are explained [here](https://developers.google.com/earth-engine/datasets/catalog/LANDSAT_LE07_C01_T1_SR#bands). We are interested in B1 to B5, and B7 (optical bands) and B6 (thermal band)."
   ]
  },
  {
   "cell_type": "code",
   "execution_count": 91,
   "metadata": {},
   "outputs": [],
   "source": [
    "# adding the Landsat 7 image in the map above and zooming in \n",
    "\n",
    "Map.addLayer(l7_05_12, {'bands': ['B4', 'B3', 'B2'], 'max': 5000}, 'Landsat 7 false color')\n",
    "Map.addLayer(l7_05_12, {'bands': ['B3', 'B2', 'B1'], 'max': 3000}, 'Landsat 7 natural color')\n",
    "Map.centerObject(l7_05_12.geometry()) #centering the map to landsat scene\n"
   ]
  },
  {
   "cell_type": "markdown",
   "metadata": {},
   "source": [
    "We are not interested in the entire Landsat 7 image, but on Delta's agricultural lands. We need to define an AOI (Area of Interest) or ROI (Region of Interest). To create a rectangle geometry that includes the Delta AOI check [here](https://developers.google.com/earth-engine/geometries). To define the coordinates of the rectangle for Delta, UT, you can use Google Earth "
   ]
  },
  {
   "cell_type": "code",
   "execution_count": 92,
   "metadata": {},
   "outputs": [],
   "source": [
    "Delta_AOI = ee.Geometry.Rectangle([-112.810777, 39.495071, -112.503826,  39.230045])\n",
    "Map.addLayer(Delta_AOI, {'outline_color':'red'}, name='Delta_AOI')"
   ]
  },
  {
   "cell_type": "markdown",
   "metadata": {},
   "source": [
    "Clipping the Landsat 7 image to the Delta AOI and adding the clipped image to the Map"
   ]
  },
  {
   "cell_type": "code",
   "execution_count": 93,
   "metadata": {},
   "outputs": [],
   "source": [
    "l7_05_12_AOI =l7_05_12.clip(Delta_AOI)\n",
    "\n",
    "Map.addLayer(l7_05_12_AOI, {'bands': ['B4', 'B3', 'B2'], 'max': 5000}, 'Landsat 7 false color AOI 2012-05-13')\n",
    "Map.centerObject(l7_05_12_AOI.geometry()) #centering the map to AOI scene\n"
   ]
  },
  {
   "cell_type": "markdown",
   "metadata": {},
   "source": [
    "Now the AOI Landsat 7 image can be prepared to be exported. "
   ]
  },
  {
   "cell_type": "code",
   "execution_count": 94,
   "metadata": {},
   "outputs": [],
   "source": [
    "# selecting image bands\n",
    "image1 = l7_05_12_AOI.select(['B1', 'B2', 'B3','B4', 'B5', 'B6','B7'])"
   ]
  },
  {
   "cell_type": "markdown",
   "metadata": {},
   "source": [
    "Now getting images for the other dates, selecting only the bands of interest and clipping image to the AOI region. Let's verify the images are adequately clipped in the map."
   ]
  },
  {
   "cell_type": "code",
   "execution_count": 95,
   "metadata": {},
   "outputs": [],
   "source": [
    "image2 = ee.Image(landsat7.select(['B1', 'B2', 'B3','B4', 'B5', 'B6','B7']).filterBounds(ee.Geometry.Point(lon,lat)).\n",
    "                    filterDate('2012-05-28','2012-05-30').first()).clip(Delta_AOI)\n",
    "\n",
    "image3 = ee.Image(landsat7.select(['B1', 'B2', 'B3','B4', 'B5', 'B6','B7']).filterBounds(ee.Geometry.Point(lon,lat)).\n",
    "                    filterDate('2012-06-13','2012-06-15').first()).clip(Delta_AOI)\n",
    "\n",
    "image4 = ee.Image(landsat7.select(['B1', 'B2', 'B3','B4', 'B5', 'B6','B7']).filterBounds(ee.Geometry.Point(lon,lat)).\n",
    "                    filterDate('2012-06-29','2012-07-01').first()).clip(Delta_AOI)\n",
    "\n",
    "Map.addLayer(image2, {'bands': ['B4', 'B3', 'B2'], 'max': 5000}, 'Landsat 7 false color AOI 2012-05-29')\n",
    "Map.addLayer(image3, {'bands': ['B4', 'B3', 'B2'], 'max': 5000}, 'Landsat 7 false color AOI 2012-06-14')\n",
    "Map.addLayer(image4, {'bands': ['B4', 'B3', 'B2'], 'max': 5000}, 'Landsat 7 false color AOI 2012-06-30')\n"
   ]
  },
  {
   "cell_type": "markdown",
   "metadata": {},
   "source": [
    "## Step 4 Exporting images from GEE to Google Drive"
   ]
  },
  {
   "cell_type": "code",
   "execution_count": 96,
   "metadata": {},
   "outputs": [],
   "source": [
    "dates =['2012-05-13', '2012-05-29', '2012-06-14', '2012-06-30']\n",
    "\n",
    "# name for image 1\n",
    "image_name='landsat7_'+dates[0]\n",
    "\n",
    "#// Create a geometry representing an export region.\n",
    "geometry = image1.geometry()\n",
    "\n",
    "# export image to Google Drive\n",
    "task = ee.batch.Export.image.toDrive(image=image1.clip(geometry),\n",
    "                                           description=image_name,\n",
    "                                           folder=google_drive_folder,\n",
    "                                           region=geometry.coordinates().getInfo(),\n",
    "                                           crs= image1.projection().crs().getInfo(),\n",
    "                                           scale=image1.projection().nominalScale().getInfo(),\n",
    "                                           fileFormat='GeoTIFF',\n",
    "                                           skipEmptyTiles=True)\n",
    "task.start() #it takes 6 to 10 mins to get the data into the google drive folder"
   ]
  },
  {
   "cell_type": "code",
   "execution_count": 97,
   "metadata": {},
   "outputs": [],
   "source": [
    "# name for image 2\n",
    "image_name='landsat7_'+dates[1]\n",
    "\n",
    "#// Create a geometry representing an export region.\n",
    "geometry = image2.geometry()\n",
    "\n",
    "# export image to Google Drive\n",
    "task = ee.batch.Export.image.toDrive(image=image2.clip(geometry),\n",
    "                                           description=image_name,\n",
    "                                           folder=google_drive_folder,\n",
    "                                           region=geometry.coordinates().getInfo(),\n",
    "                                           crs= image2.projection().crs().getInfo(),\n",
    "                                           scale=image2.projection().nominalScale().getInfo(),\n",
    "                                           fileFormat='GeoTIFF',\n",
    "                                           skipEmptyTiles=True)\n",
    "task.start() #it takes 6 to 10 mins to get the data into the google drive folder"
   ]
  },
  {
   "cell_type": "code",
   "execution_count": 98,
   "metadata": {},
   "outputs": [],
   "source": [
    "# name for image 3\n",
    "image_name='landsat7_'+dates[2]\n",
    "\n",
    "#// Create a geometry representing an export region.\n",
    "geometry = image3.geometry()\n",
    "\n",
    "# export image to Google Drive\n",
    "task = ee.batch.Export.image.toDrive(image=image3.clip(geometry),\n",
    "                                           description=image_name,\n",
    "                                           folder=google_drive_folder,\n",
    "                                           region=geometry.coordinates().getInfo(),\n",
    "                                           crs= image3.projection().crs().getInfo(),\n",
    "                                           scale=image3.projection().nominalScale().getInfo(),\n",
    "                                           fileFormat='GeoTIFF',\n",
    "                                           skipEmptyTiles=True)\n",
    "task.start() #it takes 6 to 10 mins to get the data into the google drive folder"
   ]
  },
  {
   "cell_type": "code",
   "execution_count": 99,
   "metadata": {},
   "outputs": [],
   "source": [
    "# name for image 3\n",
    "image_name='landsat7_'+dates[3]\n",
    "\n",
    "#// Create a geometry representing an export region.\n",
    "geometry = image4.geometry()\n",
    "\n",
    "# export image to Google Drive\n",
    "task = ee.batch.Export.image.toDrive(image=image4.clip(geometry),\n",
    "                                           description=image_name,\n",
    "                                           folder=google_drive_folder,\n",
    "                                           region=geometry.coordinates().getInfo(),\n",
    "                                           crs= image4.projection().crs().getInfo(),\n",
    "                                           scale=image4.projection().nominalScale().getInfo(),\n",
    "                                           fileFormat='GeoTIFF',\n",
    "                                           skipEmptyTiles=True)\n",
    "task.start() #it takes 6 to 10 mins to get the data into the google drive folder"
   ]
  },
  {
   "cell_type": "markdown",
   "metadata": {},
   "source": [
    "You can see the progress of the downloading, by running the cell below very 5 mins until all tasks are reported completed."
   ]
  },
  {
   "cell_type": "code",
   "execution_count": 106,
   "metadata": {},
   "outputs": [
    {
     "data": {
      "text/plain": [
       "[<Task EXPORT_IMAGE: landsat7_2012-06-30 (COMPLETED)>,\n",
       " <Task EXPORT_IMAGE: landsat7_2012-06-14 (COMPLETED)>,\n",
       " <Task EXPORT_IMAGE: landsat7_2012-05-29 (COMPLETED)>,\n",
       " <Task EXPORT_IMAGE: landsat7_2012-05-13 (COMPLETED)>,\n",
       " <Task EXPORT_IMAGE: landsat7_2012-06-30 (COMPLETED)>,\n",
       " <Task EXPORT_IMAGE: landsat7_2012-06-14 (COMPLETED)>,\n",
       " <Task EXPORT_IMAGE: landsat7_2012-05-29 (COMPLETED)>,\n",
       " <Task EXPORT_IMAGE: landsat7_2012-05-13 (CANCELLED)>,\n",
       " <Task EXPORT_IMAGE: landsat7_2012-05-13 (COMPLETED)>,\n",
       " <Task EXPORT_IMAGE: landsat7_2012-05-13 (FAILED)>]"
      ]
     },
     "execution_count": 106,
     "metadata": {},
     "output_type": "execute_result"
    }
   ],
   "source": [
    "task.list()"
   ]
  },
  {
   "cell_type": "code",
   "execution_count": 135,
   "metadata": {},
   "outputs": [],
   "source": [
    "# from __future__ import print_function\n",
    "# from googleapiclient.discovery import build\n",
    "# from httplib2 import Http\n",
    "# from oauth2client import file, client, tools\n",
    "import io\n",
    "from googleapiclient.http import MediaIoBaseDownload"
   ]
  },
  {
   "cell_type": "code",
   "execution_count": 136,
   "metadata": {},
   "outputs": [],
   "source": [
    "from apiclient import discovery, errors\n",
    "from httplib2 import Http\n",
    "from oauth2client import client, file, tools\n",
    "\n",
    "\n",
    "# define variables\n",
    "credentials_file_path = './credentials/credentials.json'\n",
    "clientsecret_file_path = './credentials/client_secret.json'\n",
    "\n",
    "# verifying the Google Drive API is up and running\n",
    "SCOPES = 'https://www.googleapis.com/auth/drive'\n",
    "\n",
    "# define store\n",
    "store = file.Storage(credentials_file_path)\n",
    "credentials = store.get()\n",
    "\n",
    "if not credentials or credentials.invalid:\n",
    "    flow = client.flow_from_clientsecrets(clientsecret_file_path, SCOPE)\n",
    "    credentials = tools.run_flow(flow, store)\n",
    "    \n",
    "# define API service\n",
    "http = credentials.authorize(Http())\n",
    "service = discovery.build('drive', 'v3', http=http)# define API service\n",
    "http = credentials.authorize(Http())\n",
    "service = discovery.build('drive', 'v3', http=http)"
   ]
  },
  {
   "cell_type": "code",
   "execution_count": 137,
   "metadata": {},
   "outputs": [],
   "source": [
    "# We need the name of the file exported from Earth Engine. In this case LC08_123032_20140515_TOA.tif"
   ]
  },
  {
   "cell_type": "code",
   "execution_count": 138,
   "metadata": {},
   "outputs": [
    {
     "name": "stdout",
     "output_type": "stream",
     "text": [
      "\"name contains 'landsat7_2012-05-13'\"\n"
     ]
    }
   ],
   "source": [
    "filename='LC08_123032_20140515_TOA.tif' #here we identify the file of interest\n",
    "query='\\\"name contains \\''+image_name+'\\'\\\"'\n",
    "print(query)"
   ]
  },
  {
   "cell_type": "code",
   "execution_count": 139,
   "metadata": {},
   "outputs": [
    {
     "name": "stdout",
     "output_type": "stream",
     "text": [
      "                                  id                     name\n",
      "0  1pqfw69yTQRUJ53HEHosGKKylNqM9Rhrn  landsat7_2012-05-13.tif\n"
     ]
    }
   ],
   "source": [
    "# Call the Drive v3 API\n",
    "results = service.files().list(q=\"name contains 'landsat7_2012-05-13.tif'\",pageSize=100, fields=\"nextPageToken, files(name, id)\").execute()\n",
    "# results = service.files().list(q=print(query),pageSize=100, fields=\"nextPageToken, files(name, id)\").execute()\n",
    "\n",
    "items = results.get('files', [])\n",
    "\n",
    "import pandas as pd\n",
    "df =pd.DataFrame.from_dict(items)\n",
    "print(df)\n",
    "id = df.iloc[0]['id']\n",
    "# print(id)"
   ]
  },
  {
   "cell_type": "code",
   "execution_count": 140,
   "metadata": {},
   "outputs": [],
   "source": [
    "# The previous cell should give an id like this:1xogAczbNGN8Em_WH6NH8v5GiRSuFMfnV_-SX5oJyxww\n",
    "# This is an internal id that indicates that the file is in fact within Google Drive\n",
    "\n",
    "# For GoogleDrive API, we need the id of the file to download to HydroShare"
   ]
  },
  {
   "cell_type": "code",
   "execution_count": 141,
   "metadata": {},
   "outputs": [
    {
     "name": "stdout",
     "output_type": "stream",
     "text": [
      "Download 33%.\n",
      "Download 66%.\n",
      "Download 99%.\n",
      "Download 100%.\n"
     ]
    }
   ],
   "source": [
    "file_id = id\n",
    "request = service.files().get_media(fileId=file_id)\n",
    "fh = io.BytesIO()\n",
    "downloader = MediaIoBaseDownload(fh, request)\n",
    "done = False\n",
    "while done is False:\n",
    "    status, done = downloader.next_chunk()\n",
    "    print (\"Download %d%%.\" % int(status.progress() * 100))"
   ]
  },
  {
   "cell_type": "code",
   "execution_count": 142,
   "metadata": {},
   "outputs": [],
   "source": [
    "# The file is downloaded to memory. It needs to be written to a file."
   ]
  },
  {
   "cell_type": "code",
   "execution_count": 143,
   "metadata": {},
   "outputs": [],
   "source": [
    "#writting the file from memory to local storage\n",
    "fh.seek(0)\n",
    "\n",
    "with open(df.iloc[0]['name'], \"wb\") as wer:\n",
    "\twer.write(fh.read())"
   ]
  },
  {
   "cell_type": "code",
   "execution_count": 144,
   "metadata": {},
   "outputs": [],
   "source": [
    "# That's it! The file is available for any other calculation in HS"
   ]
  },
  {
   "cell_type": "code",
   "execution_count": 145,
   "metadata": {},
   "outputs": [
    {
     "name": "stdout",
     "output_type": "stream",
     "text": [
      "1. Web Sources of Landsat resolution tested in HS.ipynb\r\n",
      "Application Roadmap.ipynb\r\n",
      "connect_to_google_drive.py\r\n",
      "\u001b[0m\u001b[01;34mcredentials\u001b[0m/\r\n",
      "landsat7_2012-05-13.tif\r\n"
     ]
    }
   ],
   "source": [
    "ls"
   ]
  },
  {
   "cell_type": "code",
   "execution_count": 151,
   "metadata": {},
   "outputs": [
    {
     "name": "stderr",
     "output_type": "stream",
     "text": [
      "Clipping input data to the valid range for imshow with RGB data ([0..1] for floats or [0..255] for integers).\n"
     ]
    },
    {
     "data": {
      "text/plain": [
       "<matplotlib.image.AxesImage at 0x7fbfcdb0fc88>"
      ]
     },
     "execution_count": 151,
     "metadata": {},
     "output_type": "execute_result"
    },
    {
     "data": {
      "image/png": "[encoded data removed]",
      "text/plain": [
       "<Figure size 432x288 with 1 Axes>"
      ]
     },
     "metadata": {},
     "output_type": "display_data"
    }
   ],
   "source": [
    "import rasterio\n",
    "import numpy as np\n",
    "import matplotlib.pyplot as plt\n",
    "\n",
    "from rasterio.plot import show\n",
    "\n",
    "fp = './landsat7_2012-05-13.tif'\n",
    "\n",
    "# Open the file:\n",
    "raster = rasterio.open(fp)\n",
    "\n",
    "# Convert to numpy arrays\n",
    "nir = raster.read(4)\n",
    "red = raster.read(3)\n",
    "green = raster.read(2)\n",
    "\n",
    "# Stack bands\n",
    "nrg = np.dstack((nir*0.0001, red*0.0001, green*0.0001))\n",
    "\n",
    "plt.imshow(nrg)\n"
   ]
  },
  {
   "cell_type": "raw",
   "metadata": {},
   "source": [
    "https://github.com/dgketchum/Landsat578"
   ]
  },
  {
   "cell_type": "markdown",
   "metadata": {},
   "source": [
    "https://gis.stackexchange.com/questions/221292/retrieve-pixel-value-with-geographic-coordinate-as-input-with-gdal"
   ]
  }
 ],
 "metadata": {
  "kernelspec": {
   "display_name": "Python 3",
   "language": "python",
   "name": "python3"
  },
  "language_info": {
   "codemirror_mode": {
    "name": "ipython",
    "version": 3
   },
   "file_extension": ".py",
   "mimetype": "text/x-python",
   "name": "python",
   "nbconvert_exporter": "python",
   "pygments_lexer": "ipython3",
   "version": "3.6.7"
  },
  "latex_envs": {
   "LaTeX_envs_menu_present": true,
   "autoclose": false,
   "autocomplete": true,
   "bibliofile": "biblio.bib",
   "cite_by": "apalike",
   "current_citInitial": 1,
   "eqLabelWithNumbers": true,
   "eqNumInitial": 1,
   "hotkeys": {
    "equation": "Ctrl-E",
    "itemize": "Ctrl-I"
   },
   "labels_anchors": false,
   "latex_user_defs": false,
   "report_style_numbering": false,
   "user_envs_cfg": false
  }
 },
 "nbformat": 4,
 "nbformat_minor": 2
}
