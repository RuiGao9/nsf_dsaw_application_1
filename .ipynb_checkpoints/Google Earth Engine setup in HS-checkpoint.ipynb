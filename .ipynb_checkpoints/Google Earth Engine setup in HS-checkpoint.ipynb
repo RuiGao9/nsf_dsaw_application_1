{
 "cells": [
  {
   "cell_type": "raw",
   "metadata": {
    "slideshow": {
     "slide_type": "skip"
    }
   },
   "source": [
    "Run this notebook as slides by clicking in the \"Enter/Exit RISE Slideshow\" button in the toolbar (it looks like a colunm plot). If it not there, run the following lines in a terminal and refresh the notetebook webpage (browser refresh):\n",
    "\n",
    "# IMPORTANT setting up Jupyter slides mode\n",
    "pip install RISE --quiet\n",
    "jupyter-nbextension install rise --py --sys-prefix\n",
    "jupyter nbextension enable rise --py --sys-prefix\n",
    "#"
   ]
  },
  {
   "cell_type": "markdown",
   "metadata": {
    "slideshow": {
     "slide_type": "slide"
    }
   },
   "source": [
    "## Google Earth Engine Setup In HydroShare\n",
    "\n",
    "adapted from https://github.com/rosaguilar/geetutorial"
   ]
  },
  {
   "cell_type": "code",
   "execution_count": 7,
   "metadata": {
    "slideshow": {
     "slide_type": "fragment"
    }
   },
   "outputs": [
    {
     "name": "stdout",
     "output_type": "stream",
     "text": [
      "Updated by Alfonso Torres-Rua,  May 20, 2020\n"
     ]
    }
   ],
   "source": [
    "from datetime import date\n",
    "today = date.today()\n",
    "d2 = today.strftime(\"%B %d, %Y\")\n",
    "print(\"Updated by Alfonso Torres-Rua, \", d2)"
   ]
  },
  {
   "cell_type": "markdown",
   "metadata": {
    "slideshow": {
     "slide_type": "slide"
    }
   },
   "source": [
    "This document will guide you to configure the Pyhton API of Google Earth Engine (GEE) to be run within HydroShare. An explanation of GEE (cloud platform to perform large scale analysis on Earth science data) can be found [here](https://earthengine.google.com/). The type of datasets available in GEE are of two types: raster and vectors. For a detailed list of datasets check (here)[https://developers.google.com/earth-engine/datasets/].\n",
    "\n",
    "This document assumes that user(s) have experience with basic Anaconda python notebooks and terminal. \n",
    "\n",
    "The steps in this notebook have to be run ONLY ONCE."
   ]
  },
  {
   "cell_type": "markdown",
   "metadata": {
    "slideshow": {
     "slide_type": "slide"
    }
   },
   "source": [
    "### Step 1: Google Earth Engine registration "
   ]
  },
  {
   "cell_type": "markdown",
   "metadata": {
    "slideshow": {
     "slide_type": "fragment"
    }
   },
   "source": [
    "Before the installation, you should sign up in GEE. \n",
    "This can be done in: https://signup.earthengine.google.com. It is preferable to use a gmail email."
   ]
  },
  {
   "cell_type": "markdown",
   "metadata": {
    "slideshow": {
     "slide_type": "slide"
    }
   },
   "source": [
    "### Step 2: Hydroshare Python modules installation"
   ]
  },
  {
   "cell_type": "markdown",
   "metadata": {
    "slideshow": {
     "slide_type": "fragment"
    }
   },
   "source": [
    "We will use Python 3.5 or higher and pip.\n",
    "\n",
    "In a terminal console, execute (copy and paste) the following lines:"
   ]
  },
  {
   "cell_type": "raw",
   "metadata": {
    "slideshow": {
     "slide_type": "fragment"
    }
   },
   "source": [
    "pip install google-api-python-client\n",
    "pip install oauth2client\n",
    "pip install pyCrypto\n",
    "pip install earthengine-api\n",
    "ls"
   ]
  },
  {
   "cell_type": "markdown",
   "metadata": {
    "slideshow": {
     "slide_type": "slide"
    }
   },
   "source": [
    "If no error were displayed in the terminal, then lets pass the following command:"
   ]
  },
  {
   "cell_type": "raw",
   "metadata": {
    "slideshow": {
     "slide_type": "fragment"
    }
   },
   "source": [
    "earthengine authenticate"
   ]
  },
  {
   "cell_type": "markdown",
   "metadata": {
    "slideshow": {
     "slide_type": "slide"
    }
   },
   "source": [
    "The last command will ask you to open a browser. Because the web link is 3 lines, it is better to select them with the mouse, copy it (right click) and in a new browser window paste it and hit Enter"
   ]
  },
  {
   "cell_type": "code",
   "execution_count": 12,
   "metadata": {
    "slideshow": {
     "slide_type": "fragment"
    }
   },
   "outputs": [
    {
     "data": {
      "text/html": [
       "<img src='./picture1_0.png', width=1200, height=500>"
      ],
      "text/plain": [
       "<IPython.core.display.HTML object>"
      ]
     },
     "metadata": {},
     "output_type": "display_data"
    }
   ],
   "source": [
    "%%html\n",
    "<img src='./picture1_0.png', width=1200, height=500>"
   ]
  },
  {
   "cell_type": "markdown",
   "metadata": {
    "slideshow": {
     "slide_type": "fragment"
    }
   },
   "source": [
    "In the browser window, GEE will ask for permission to access your GEE account. Make sure is the same email account used for GEE. Accept it."
   ]
  },
  {
   "cell_type": "markdown",
   "metadata": {
    "slideshow": {
     "slide_type": "slide"
    }
   },
   "source": [
    "After giving permission, GEE will provide a token, like this:"
   ]
  },
  {
   "cell_type": "raw",
   "metadata": {
    "slideshow": {
     "slide_type": "fragment"
    }
   },
   "source": [
    "Xt2hgyjklnvvkd"
   ]
  },
  {
   "cell_type": "markdown",
   "metadata": {
    "slideshow": {
     "slide_type": "fragment"
    }
   },
   "source": [
    "Copy the token and paste in the terminal.\n",
    "Hydroshare will save this token and you can start to use GEE python API."
   ]
  },
  {
   "cell_type": "markdown",
   "metadata": {
    "slideshow": {
     "slide_type": "fragment"
    }
   },
   "source": [
    "\n",
    "NOTE: This authentication process creates a credential file located typically in: <br>\n",
    "<i>\\username\\.config\\earthengine</i> \n",
    "\n",
    "This credential is related to the specific email account used during login.<br>\n"
   ]
  },
  {
   "cell_type": "markdown",
   "metadata": {
    "slideshow": {
     "slide_type": "slide"
    }
   },
   "source": [
    "### Step 3 Testing your installation"
   ]
  },
  {
   "cell_type": "markdown",
   "metadata": {
    "slideshow": {
     "slide_type": "fragment"
    }
   },
   "source": [
    "In a new notebook file, copy and paste the following code:"
   ]
  },
  {
   "cell_type": "code",
   "execution_count": 9,
   "metadata": {
    "slideshow": {
     "slide_type": "fragment"
    }
   },
   "outputs": [
    {
     "name": "stdout",
     "output_type": "stream",
     "text": [
      "{'type': 'Image', 'bands': [{'id': 'elevation', 'data_type': {'type': 'PixelType', 'precision': 'int', 'min': -32768, 'max': 32767}, 'dimensions': [432000, 144000], 'crs': 'EPSG:4326', 'crs_transform': [0.000833333333333, 0, -180, 0, -0.000833333333333, 60]}], 'version': 1494271934303000.0, 'id': 'srtm90_v4', 'properties': {'system:time_start': 950227200000, 'system:time_end': 951177600000, 'system:asset_size': 18827626666}}\n"
     ]
    }
   ],
   "source": [
    "#Import the Earth Engine Python Package\n",
    "import ee\n",
    "#Initialize the Earth Engine object\n",
    "ee.Initialize()\n",
    "#Print the information for an image asset.\n",
    "image = ee.Image('srtm90_v4')\n",
    "print(image.getInfo())"
   ]
  },
  {
   "cell_type": "markdown",
   "metadata": {
    "slideshow": {
     "slide_type": "slide"
    }
   },
   "source": [
    "The above command should produce an output like this:"
   ]
  },
  {
   "cell_type": "raw",
   "metadata": {
    "collapsed": true,
    "slideshow": {
     "slide_type": "fragment"
    }
   },
   "source": [
    "{'type': 'Image', 'bands': [{'id': 'elevation', 'data_type': {'type': 'PixelType', 'precision': 'int', 'min': -32768, 'max': 32767}, 'dimensions': [432000, 144000], 'crs': 'EPSG:4326', 'crs_transform': [0.000833333333333, 0.0, -180.0, 0.0, -0.000833333333333, 60.0]}], 'version': 1494271934303000, 'id': 'srtm90_v4', 'properties': {'system:time_start': 950227200000, 'system:time_end': 951177600000, 'system:asset_size': 18827626666}}\n"
   ]
  },
  {
   "cell_type": "markdown",
   "metadata": {
    "slideshow": {
     "slide_type": "slide"
    }
   },
   "source": [
    "### Step 4 Ensuring GEE internal storage is created in your account "
   ]
  },
  {
   "cell_type": "markdown",
   "metadata": {
    "slideshow": {
     "slide_type": "fragment"
    }
   },
   "source": [
    "If the results are the same, then there is one more step to ensure no issues when creating maps.Final configuration step:\n",
    "\n",
    "- Go to code.earthengine.google.com and login with your GEE account.\n",
    "- Click on the Assets tab (left) and make sure a text line similar to \"users\\(yourname)\" is there.\n",
    "- If not, click on the large button just below the **Asset** tab so a storage folder is created for you.\n",
    "\n",
    "After this you are set! Enjoy coding."
   ]
  }
 ],
 "metadata": {
  "celltoolbar": "Slideshow",
  "kernelspec": {
   "display_name": "Python 3",
   "language": "python",
   "name": "python3"
  },
  "language_info": {
   "codemirror_mode": {
    "name": "ipython",
    "version": 3
   },
   "file_extension": ".py",
   "mimetype": "text/x-python",
   "name": "python",
   "nbconvert_exporter": "python",
   "pygments_lexer": "ipython3",
   "version": "3.6.7"
  },
  "latex_envs": {
   "LaTeX_envs_menu_present": true,
   "autoclose": false,
   "autocomplete": true,
   "bibliofile": "biblio.bib",
   "cite_by": "apalike",
   "current_citInitial": 1,
   "eqLabelWithNumbers": true,
   "eqNumInitial": 1,
   "hotkeys": {
    "equation": "Ctrl-E",
    "itemize": "Ctrl-I"
   },
   "labels_anchors": false,
   "latex_user_defs": false,
   "report_style_numbering": false,
   "user_envs_cfg": false
  }
 },
 "nbformat": 4,
 "nbformat_minor": 2
}
