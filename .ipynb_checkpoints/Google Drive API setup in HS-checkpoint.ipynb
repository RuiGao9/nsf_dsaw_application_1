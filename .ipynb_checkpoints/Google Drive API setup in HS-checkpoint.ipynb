{
 "cells": [
  {
   "cell_type": "code",
   "execution_count": null,
   "metadata": {},
   "outputs": [],
   "source": [
    "# Bring the image into HS uisng Google Drive API\n",
    "\n",
    "# https://medium.com/swlh/google-drive-api-with-python-part-i-set-up-credentials-1f729cb0372b\n",
    "\n",
    "# THIS SECTION IS DONE ONCE\n",
    "    \n",
    "# First, go to https://console.developers.google.com/ from your browser.\n",
    "# Click \"MyProject\" icon on top of website\n",
    "# On new window, click \"New Project\"\n",
    "# On new page, define project name: earthengine-google-drive. Click CREATE\n",
    "# Click on GoogleAPI on top left.\n",
    "# Click on ENABLE APIS AND SERVICES\n",
    "# Click Google Drive\n",
    "# Click Enable\n",
    "# Click CREATE CREDENTIALS\n",
    "# Asnwer questions\n",
    "    # Which API are you using? Google Drive API\n",
    "    # Where will you be calling the API from? Web Browser\n",
    "    # What data will you be accessing?\n",
    "# Click What credentials do I need?\n",
    "# Setup OAuth consent screen\n",
    "# OAuth consent screen User type: Internal\n",
    "# Click CREATE\n",
    "# OAuth consent screen\n",
    "    # Application name: (define a name)\n",
    "    # Add Scope: select \"See and download all your Google Drive files\"    \n",
    "    \n",
    "# Here there may be an option to link it to HS google Oauth (not my expertise)    \n",
    "# Click SAVE \n",
    "# Go to Credentials on left\n",
    "# Click CREATE CREDENTIALS\n",
    "# Click Oauth client ID\n",
    "# Select \"Other\" application type\n",
    "# Close small windows\n",
    "# In main window download OAuth 2.0 Client ID and rename it client_secret.json"
   ]
  },
  {
   "cell_type": "code",
   "execution_count": null,
   "metadata": {},
   "outputs": [],
   "source": [
    "# Connecting Google Drive and HydroShare\n",
    "# https://levelup.gitconnected.com/google-drive-api-with-python-part-ii-connect-to-google-drive-and-search-for-file-7138422e0563\n",
    "\n",
    "# installing google-api-python-client and oauth2client libraries.\n",
    "\n",
    "# use the --noauth_local_webserver option"
   ]
  }
 ],
 "metadata": {
  "kernelspec": {
   "display_name": "Python 3",
   "language": "python",
   "name": "python3"
  },
  "language_info": {
   "codemirror_mode": {
    "name": "ipython",
    "version": 3
   },
   "file_extension": ".py",
   "mimetype": "text/x-python",
   "name": "python",
   "nbconvert_exporter": "python",
   "pygments_lexer": "ipython3",
   "version": "3.6.7"
  },
  "latex_envs": {
   "LaTeX_envs_menu_present": true,
   "autoclose": false,
   "autocomplete": true,
   "bibliofile": "biblio.bib",
   "cite_by": "apalike",
   "current_citInitial": 1,
   "eqLabelWithNumbers": true,
   "eqNumInitial": 1,
   "hotkeys": {
    "equation": "Ctrl-E",
    "itemize": "Ctrl-I"
   },
   "labels_anchors": false,
   "latex_user_defs": false,
   "report_style_numbering": false,
   "user_envs_cfg": false
  }
 },
 "nbformat": 4,
 "nbformat_minor": 2
}
